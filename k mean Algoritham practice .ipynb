{
 "cells": [
  {
   "cell_type": "code",
   "execution_count": 94,
   "id": "f10ecb21-7b6c-45c8-9034-97c116fd0cf0",
   "metadata": {},
   "outputs": [],
   "source": [
    "import numpy as np\n",
    "import pandas as pd \n",
    "import matplotlib.pyplot as plt\n",
    "import seaborn as sns"
   ]
  },
  {
   "cell_type": "code",
   "execution_count": 96,
   "id": "a096dad2-f413-4a19-939e-29764a616de6",
   "metadata": {},
   "outputs": [],
   "source": [
    "df=pd.read_csv(r\"C:\\Users\\GHANWAT\\Downloads\\student_clustering.csv\")"
   ]
  },
  {
   "cell_type": "code",
   "execution_count": 98,
   "id": "3f20106a-ef4e-4979-8df6-3cc90dee3087",
   "metadata": {},
   "outputs": [
    {
     "data": {
      "text/html": [
       "<div>\n",
       "<style scoped>\n",
       "    .dataframe tbody tr th:only-of-type {\n",
       "        vertical-align: middle;\n",
       "    }\n",
       "\n",
       "    .dataframe tbody tr th {\n",
       "        vertical-align: top;\n",
       "    }\n",
       "\n",
       "    .dataframe thead th {\n",
       "        text-align: right;\n",
       "    }\n",
       "</style>\n",
       "<table border=\"1\" class=\"dataframe\">\n",
       "  <thead>\n",
       "    <tr style=\"text-align: right;\">\n",
       "      <th></th>\n",
       "      <th>cgpa</th>\n",
       "      <th>iq</th>\n",
       "    </tr>\n",
       "  </thead>\n",
       "  <tbody>\n",
       "    <tr>\n",
       "      <th>0</th>\n",
       "      <td>5.13</td>\n",
       "      <td>88</td>\n",
       "    </tr>\n",
       "    <tr>\n",
       "      <th>1</th>\n",
       "      <td>5.90</td>\n",
       "      <td>113</td>\n",
       "    </tr>\n",
       "    <tr>\n",
       "      <th>2</th>\n",
       "      <td>8.36</td>\n",
       "      <td>93</td>\n",
       "    </tr>\n",
       "    <tr>\n",
       "      <th>3</th>\n",
       "      <td>8.27</td>\n",
       "      <td>97</td>\n",
       "    </tr>\n",
       "    <tr>\n",
       "      <th>4</th>\n",
       "      <td>5.45</td>\n",
       "      <td>110</td>\n",
       "    </tr>\n",
       "    <tr>\n",
       "      <th>...</th>\n",
       "      <td>...</td>\n",
       "      <td>...</td>\n",
       "    </tr>\n",
       "    <tr>\n",
       "      <th>195</th>\n",
       "      <td>4.68</td>\n",
       "      <td>89</td>\n",
       "    </tr>\n",
       "    <tr>\n",
       "      <th>196</th>\n",
       "      <td>8.57</td>\n",
       "      <td>118</td>\n",
       "    </tr>\n",
       "    <tr>\n",
       "      <th>197</th>\n",
       "      <td>5.85</td>\n",
       "      <td>112</td>\n",
       "    </tr>\n",
       "    <tr>\n",
       "      <th>198</th>\n",
       "      <td>6.23</td>\n",
       "      <td>108</td>\n",
       "    </tr>\n",
       "    <tr>\n",
       "      <th>199</th>\n",
       "      <td>8.82</td>\n",
       "      <td>117</td>\n",
       "    </tr>\n",
       "  </tbody>\n",
       "</table>\n",
       "<p>200 rows × 2 columns</p>\n",
       "</div>"
      ],
      "text/plain": [
       "     cgpa   iq\n",
       "0    5.13   88\n",
       "1    5.90  113\n",
       "2    8.36   93\n",
       "3    8.27   97\n",
       "4    5.45  110\n",
       "..    ...  ...\n",
       "195  4.68   89\n",
       "196  8.57  118\n",
       "197  5.85  112\n",
       "198  6.23  108\n",
       "199  8.82  117\n",
       "\n",
       "[200 rows x 2 columns]"
      ]
     },
     "execution_count": 98,
     "metadata": {},
     "output_type": "execute_result"
    }
   ],
   "source": [
    "df"
   ]
  },
  {
   "cell_type": "code",
   "execution_count": 100,
   "id": "c243b8c7-f883-431c-9ff4-b5832e6ebc1e",
   "metadata": {},
   "outputs": [
    {
     "data": {
      "text/plain": [
       "(200, 2)"
      ]
     },
     "execution_count": 100,
     "metadata": {},
     "output_type": "execute_result"
    }
   ],
   "source": [
    "df.shape"
   ]
  },
  {
   "cell_type": "code",
   "execution_count": 102,
   "id": "8eb8885d-56c9-4cf4-852c-8d51eb0eabfc",
   "metadata": {},
   "outputs": [
    {
     "data": {
      "text/plain": [
       "<matplotlib.collections.PathCollection at 0x175ebe5fc80>"
      ]
     },
     "execution_count": 102,
     "metadata": {},
     "output_type": "execute_result"
    },
    {
     "data": {
      "image/png": "[encoded data removed]",
      "text/plain": [
       "<Figure size 640x480 with 1 Axes>"
      ]
     },
     "metadata": {},
     "output_type": "display_data"
    }
   ],
   "source": [
    "#data visvalization\n",
    "plt.scatter(x=df[\"cgpa\"],y=df[\"iq\"])\n"
   ]
  },
  {
   "cell_type": "raw",
   "id": "600fd2e1-4c84-432f-93ce-5a796df88c79",
   "metadata": {},
   "source": [
    "this is a toy dataset so we can define k is but we find optimal k value :elbow method \n",
    "another method to find k value is 2)silhoulte score 3) distance plot,4)distribution plot 5) t sne"
   ]
  },
  {
   "cell_type": "code",
   "execution_count": 104,
   "id": "4869314a-b558-4a3d-8dd3-b6253df29f95",
   "metadata": {},
   "outputs": [],
   "source": [
    "from sklearn.cluster l KMeans"
   ]
  },
  {
   "cell_type": "code",
   "execution_count": 106,
   "id": "ea769375-330a-4d03-8381-85f26fb62abe",
   "metadata": {},
   "outputs": [],
   "source": [
    "wcss=[]\n",
    "for i in range(1,11):\n",
    "    km = KMeans(n_clusters=i)\n",
    "    km.fit_predict(df)\n",
    "    wcss.append(km.inertia_)\n",
    "#n_clusters:- parameter of hyperparamatric tuning"
   ]
  },
  {
   "cell_type": "code",
   "execution_count": 108,
   "id": "f7c3c248-f771-4a9e-aa8b-fbcd8cb4a118",
   "metadata": {},
   "outputs": [
    {
     "data": {
      "text/plain": [
       "[29957.898288,\n",
       " 4184.14127,\n",
       " 2503.397581,\n",
       " 681.96966,\n",
       " 563.7685674520718,\n",
       " 398.4039118468833,\n",
       " 385.43197880553186,\n",
       " 297.6638835594194,\n",
       " 214.11886514209357,\n",
       " 215.2412118516392]"
      ]
     },
     "execution_count": 108,
     "metadata": {},
     "output_type": "execute_result"
    }
   ],
   "source": [
    "wcss"
   ]
  },
  {
   "cell_type": "code",
   "execution_count": 110,
   "id": "5789a401-c745-47cc-abff-a9c9804c8876",
   "metadata": {},
   "outputs": [
    {
     "data": {
      "text/plain": [
       "[<matplotlib.lines.Line2D at 0x175ebe2bd40>]"
      ]
     },
     "execution_count": 110,
     "metadata": {},
     "output_type": "execute_result"
    },
    {
     "data": {
      "image/png": "[encoded data removed]",
      "text/plain": [
       "<Figure size 640x480 with 1 Axes>"
      ]
     },
     "metadata": {},
     "output_type": "display_data"
    }
   ],
   "source": [
    "plt.plot(range(1,11),wcss)"
   ]
  },
  {
   "cell_type": "code",
   "execution_count": 30,
   "id": "87abda0e-7184-4b5b-af19-7642668ee6c5",
   "metadata": {},
   "outputs": [],
   "source": [
    "# we get no k is 4"
   ]
  },
  {
   "cell_type": "code",
   "execution_count": 38,
   "id": "ad2401ef-2935-4858-bcd1-8996797088c0",
   "metadata": {},
   "outputs": [
    {
     "data": {
      "text/plain": [
       "array([[  5.13,  88.  ],\n",
       "       [  5.9 , 113.  ],\n",
       "       [  8.36,  93.  ],\n",
       "       [  8.27,  97.  ],\n",
       "       [  5.45, 110.  ],\n",
       "       [  5.88, 109.  ],\n",
       "       [  8.41,  98.  ],\n",
       "       [  8.8 , 115.  ],\n",
       "       [  5.79, 110.  ],\n",
       "       [  8.09,  94.  ],\n",
       "       [  4.6 ,  86.  ],\n",
       "       [  6.1 , 110.  ],\n",
       "       [  8.16,  97.  ],\n",
       "       [  5.  ,  88.  ],\n",
       "       [  5.71, 108.  ],\n",
       "       [  8.31,  95.  ],\n",
       "       [  5.5 , 111.  ],\n",
       "       [  7.87,  91.  ],\n",
       "       [  6.05, 111.  ],\n",
       "       [  5.84, 113.  ],\n",
       "       [  7.47,  98.  ],\n",
       "       [  4.86,  86.  ],\n",
       "       [  7.78,  92.  ],\n",
       "       [  4.78,  87.  ],\n",
       "       [  4.96,  88.  ],\n",
       "       [  7.93,  98.  ],\n",
       "       [  4.86,  87.  ],\n",
       "       [  9.18, 119.  ],\n",
       "       [  8.04,  94.  ],\n",
       "       [  5.43, 106.  ],\n",
       "       [  8.86, 117.  ],\n",
       "       [  6.01, 112.  ],\n",
       "       [  8.83, 118.  ],\n",
       "       [  5.32, 106.  ],\n",
       "       [  7.77,  96.  ],\n",
       "       [  8.  ,  96.  ],\n",
       "       [  8.56, 118.  ],\n",
       "       [  5.91, 108.  ],\n",
       "       [  5.44,  84.  ],\n",
       "       [  5.57, 113.  ],\n",
       "       [  5.34,  85.  ],\n",
       "       [  8.43,  96.  ],\n",
       "       [  8.02,  93.  ],\n",
       "       [  5.31,  86.  ],\n",
       "       [  8.96, 116.  ],\n",
       "       [  8.78, 116.  ],\n",
       "       [  8.14,  94.  ],\n",
       "       [  6.4 , 108.  ],\n",
       "       [  8.45, 119.  ],\n",
       "       [  5.67, 109.  ],\n",
       "       [  5.14,  83.  ],\n",
       "       [  4.95,  86.  ],\n",
       "       [  8.79, 116.  ],\n",
       "       [  8.12,  96.  ],\n",
       "       [  8.81, 115.  ],\n",
       "       [  6.05, 108.  ],\n",
       "       [  5.85, 111.  ],\n",
       "       [  8.88, 115.  ],\n",
       "       [  5.87, 109.  ],\n",
       "       [  9.07, 117.  ],\n",
       "       [  6.02, 104.  ],\n",
       "       [  8.34,  96.  ],\n",
       "       [  8.65,  95.  ],\n",
       "       [  8.92, 118.  ],\n",
       "       [  5.21,  87.  ],\n",
       "       [  8.75, 113.  ],\n",
       "       [  8.53,  93.  ],\n",
       "       [  4.91,  85.  ],\n",
       "       [  5.77, 111.  ],\n",
       "       [  8.29,  95.  ],\n",
       "       [  6.06, 109.  ],\n",
       "       [  8.71, 116.  ],\n",
       "       [  7.93,  94.  ],\n",
       "       [  5.28,  83.  ],\n",
       "       [  5.55, 109.  ],\n",
       "       [  8.86, 118.  ],\n",
       "       [  5.81, 112.  ],\n",
       "       [  9.3 , 117.  ],\n",
       "       [  5.15,  88.  ],\n",
       "       [  8.72,  92.  ],\n",
       "       [  8.14,  91.  ],\n",
       "       [  9.01, 121.  ],\n",
       "       [  5.47, 111.  ],\n",
       "       [  4.9 ,  85.  ],\n",
       "       [  8.97, 116.  ],\n",
       "       [  4.89,  88.  ],\n",
       "       [  9.  , 117.  ],\n",
       "       [  5.74, 109.  ],\n",
       "       [  8.76, 117.  ],\n",
       "       [  5.8 , 108.  ],\n",
       "       [  8.78, 117.  ],\n",
       "       [  9.23, 114.  ],\n",
       "       [  8.2 ,  92.  ],\n",
       "       [  5.05,  86.  ],\n",
       "       [  8.67,  95.  ],\n",
       "       [  8.18,  94.  ],\n",
       "       [  9.03, 118.  ],\n",
       "       [  8.61,  95.  ],\n",
       "       [  4.98,  91.  ],\n",
       "       [  9.13, 118.  ],\n",
       "       [  5.88, 110.  ],\n",
       "       [  5.01,  86.  ],\n",
       "       [  4.95,  88.  ],\n",
       "       [  8.91, 119.  ],\n",
       "       [  4.96,  89.  ],\n",
       "       [  4.85,  86.  ],\n",
       "       [  7.99,  92.  ],\n",
       "       [  4.76,  90.  ],\n",
       "       [  8.98, 118.  ],\n",
       "       [  9.03, 118.  ],\n",
       "       [  8.08,  94.  ],\n",
       "       [  8.86, 117.  ],\n",
       "       [  5.91, 109.  ],\n",
       "       [  5.67, 111.  ],\n",
       "       [  8.26,  91.  ],\n",
       "       [  8.89, 118.  ],\n",
       "       [  8.25,  95.  ],\n",
       "       [  5.74, 108.  ],\n",
       "       [  8.97, 117.  ],\n",
       "       [  4.98,  87.  ],\n",
       "       [  4.78,  87.  ],\n",
       "       [  5.69, 109.  ],\n",
       "       [  8.4 ,  93.  ],\n",
       "       [  8.72, 119.  ],\n",
       "       [  7.84,  97.  ],\n",
       "       [  5.2 ,  85.  ],\n",
       "       [  8.08,  98.  ],\n",
       "       [  6.05, 109.  ],\n",
       "       [  5.05,  87.  ],\n",
       "       [  8.25,  96.  ],\n",
       "       [  8.3 ,  93.  ],\n",
       "       [  6.14, 111.  ],\n",
       "       [  5.01,  83.  ],\n",
       "       [  4.77,  86.  ],\n",
       "       [  5.74, 112.  ],\n",
       "       [  8.93, 118.  ],\n",
       "       [  5.94, 109.  ],\n",
       "       [  4.68,  87.  ],\n",
       "       [  7.9 , 100.  ],\n",
       "       [  7.97,  96.  ],\n",
       "       [  8.21,  94.  ],\n",
       "       [  4.81,  85.  ],\n",
       "       [  5.86, 111.  ],\n",
       "       [  5.03,  87.  ],\n",
       "       [  4.98,  87.  ],\n",
       "       [  8.58, 118.  ],\n",
       "       [  5.32,  88.  ],\n",
       "       [  8.94, 117.  ],\n",
       "       [  6.38, 107.  ],\n",
       "       [  4.86,  88.  ],\n",
       "       [  8.6 , 117.  ],\n",
       "       [  4.89,  85.  ],\n",
       "       [  8.77, 117.  ],\n",
       "       [  8.81, 116.  ],\n",
       "       [  4.88,  86.  ],\n",
       "       [  8.23,  95.  ],\n",
       "       [  6.61, 111.  ],\n",
       "       [  8.54, 118.  ],\n",
       "       [  6.04, 110.  ],\n",
       "       [  8.35,  93.  ],\n",
       "       [  5.01,  86.  ],\n",
       "       [  8.97, 119.  ],\n",
       "       [  6.24, 108.  ],\n",
       "       [  8.33,  92.  ],\n",
       "       [  8.91, 117.  ],\n",
       "       [  4.67,  86.  ],\n",
       "       [  6.1 , 109.  ],\n",
       "       [  5.15,  85.  ],\n",
       "       [  4.97,  88.  ],\n",
       "       [  8.68, 119.  ],\n",
       "       [  9.06, 120.  ],\n",
       "       [  5.8 , 110.  ],\n",
       "       [  8.9 , 117.  ],\n",
       "       [  4.87,  88.  ],\n",
       "       [  5.2 ,  89.  ],\n",
       "       [  8.46,  98.  ],\n",
       "       [  8.94, 115.  ],\n",
       "       [  5.87, 108.  ],\n",
       "       [  4.99,  88.  ],\n",
       "       [  8.91, 115.  ],\n",
       "       [  8.91, 117.  ],\n",
       "       [  5.97, 108.  ],\n",
       "       [  6.17, 110.  ],\n",
       "       [  6.01, 107.  ],\n",
       "       [  7.89,  96.  ],\n",
       "       [  4.79,  88.  ],\n",
       "       [  7.91,  93.  ],\n",
       "       [  8.23,  91.  ],\n",
       "       [  8.95, 116.  ],\n",
       "       [  6.33, 111.  ],\n",
       "       [  8.4 ,  93.  ],\n",
       "       [  8.44,  94.  ],\n",
       "       [  4.76,  89.  ],\n",
       "       [  4.78,  85.  ],\n",
       "       [  8.79,  96.  ],\n",
       "       [  4.68,  89.  ],\n",
       "       [  8.57, 118.  ],\n",
       "       [  5.85, 112.  ],\n",
       "       [  6.23, 108.  ],\n",
       "       [  8.82, 117.  ]])"
      ]
     },
     "execution_count": 38,
     "metadata": {},
     "output_type": "execute_result"
    }
   ],
   "source": [
    "df_new=df.iloc[:,:].values\n",
    "df_new"
   ]
  },
  {
   "cell_type": "code",
   "execution_count": 58,
   "id": "5717145a-f0ba-4df4-aa24-5ae089f65d28",
   "metadata": {},
   "outputs": [
    {
     "data": {
      "text/plain": [
       "array([2, 0, 1, 1, 0, 0, 1, 3, 0, 1, 2, 0, 1, 2, 0, 1, 0, 1, 0, 0, 1, 2,\n",
       "       1, 2, 2, 1, 2, 3, 1, 0, 3, 0, 3, 0, 1, 1, 3, 0, 2, 0, 2, 1, 1, 2,\n",
       "       3, 3, 1, 0, 3, 0, 2, 2, 3, 1, 3, 0, 0, 3, 0, 3, 0, 1, 1, 3, 2, 3,\n",
       "       1, 2, 0, 1, 0, 3, 1, 2, 0, 3, 0, 3, 2, 1, 1, 3, 0, 2, 3, 2, 3, 0,\n",
       "       3, 0, 3, 3, 1, 2, 1, 1, 3, 1, 2, 3, 0, 2, 2, 3, 2, 2, 1, 2, 3, 3,\n",
       "       1, 3, 0, 0, 1, 3, 1, 0, 3, 2, 2, 0, 1, 3, 1, 2, 1, 0, 2, 1, 1, 0,\n",
       "       2, 2, 0, 3, 0, 2, 1, 1, 1, 2, 0, 2, 2, 3, 2, 3, 0, 2, 3, 2, 3, 3,\n",
       "       2, 1, 0, 3, 0, 1, 2, 3, 0, 1, 3, 2, 0, 2, 2, 3, 3, 0, 3, 2, 2, 1,\n",
       "       3, 0, 2, 3, 3, 0, 0, 0, 1, 2, 1, 1, 3, 0, 1, 1, 2, 2, 1, 2, 3, 0,\n",
       "       0, 3], dtype=int32)"
      ]
     },
     "execution_count": 58,
     "metadata": {},
     "output_type": "execute_result"
    }
   ],
   "source": [
    "km=KMeans(n_clusters=4)\n",
    "y=km.fit_predict(df_new)\n",
    "y\n",
    "#it predict the class/cluster "
   ]
  },
  {
   "cell_type": "code",
   "execution_count": 68,
   "id": "8252e040-3f9a-4e2e-b8b2-906730d10961",
   "metadata": {},
   "outputs": [
    {
     "data": {
      "text/plain": [
       "array([[  5.9 , 113.  ],\n",
       "       [  5.45, 110.  ],\n",
       "       [  5.88, 109.  ],\n",
       "       [  5.79, 110.  ],\n",
       "       [  6.1 , 110.  ],\n",
       "       [  5.71, 108.  ],\n",
       "       [  5.5 , 111.  ],\n",
       "       [  6.05, 111.  ],\n",
       "       [  5.84, 113.  ],\n",
       "       [  5.43, 106.  ],\n",
       "       [  6.01, 112.  ],\n",
       "       [  5.32, 106.  ],\n",
       "       [  5.91, 108.  ],\n",
       "       [  5.57, 113.  ],\n",
       "       [  6.4 , 108.  ],\n",
       "       [  5.67, 109.  ],\n",
       "       [  6.05, 108.  ],\n",
       "       [  5.85, 111.  ],\n",
       "       [  5.87, 109.  ],\n",
       "       [  6.02, 104.  ],\n",
       "       [  5.77, 111.  ],\n",
       "       [  6.06, 109.  ],\n",
       "       [  5.55, 109.  ],\n",
       "       [  5.81, 112.  ],\n",
       "       [  5.47, 111.  ],\n",
       "       [  5.74, 109.  ],\n",
       "       [  5.8 , 108.  ],\n",
       "       [  5.88, 110.  ],\n",
       "       [  5.91, 109.  ],\n",
       "       [  5.67, 111.  ],\n",
       "       [  5.74, 108.  ],\n",
       "       [  5.69, 109.  ],\n",
       "       [  6.05, 109.  ],\n",
       "       [  6.14, 111.  ],\n",
       "       [  5.74, 112.  ],\n",
       "       [  5.94, 109.  ],\n",
       "       [  5.86, 111.  ],\n",
       "       [  6.38, 107.  ],\n",
       "       [  6.61, 111.  ],\n",
       "       [  6.04, 110.  ],\n",
       "       [  6.24, 108.  ],\n",
       "       [  6.1 , 109.  ],\n",
       "       [  5.8 , 110.  ],\n",
       "       [  5.87, 108.  ],\n",
       "       [  5.97, 108.  ],\n",
       "       [  6.17, 110.  ],\n",
       "       [  6.01, 107.  ],\n",
       "       [  6.33, 111.  ],\n",
       "       [  5.85, 112.  ],\n",
       "       [  6.23, 108.  ]])"
      ]
     },
     "execution_count": 68,
     "metadata": {},
     "output_type": "execute_result"
    }
   ],
   "source": [
    "df_new[y==0]\n",
    "#rows in cluster 0"
   ]
  },
  {
   "cell_type": "code",
   "execution_count": 70,
   "id": "9fe9ddc7-cf00-4566-807f-8e504d01b33f",
   "metadata": {},
   "outputs": [
    {
     "data": {
      "text/plain": [
       "array([[  8.36,  93.  ],\n",
       "       [  8.27,  97.  ],\n",
       "       [  8.41,  98.  ],\n",
       "       [  8.09,  94.  ],\n",
       "       [  8.16,  97.  ],\n",
       "       [  8.31,  95.  ],\n",
       "       [  7.87,  91.  ],\n",
       "       [  7.47,  98.  ],\n",
       "       [  7.78,  92.  ],\n",
       "       [  7.93,  98.  ],\n",
       "       [  8.04,  94.  ],\n",
       "       [  7.77,  96.  ],\n",
       "       [  8.  ,  96.  ],\n",
       "       [  8.43,  96.  ],\n",
       "       [  8.02,  93.  ],\n",
       "       [  8.14,  94.  ],\n",
       "       [  8.12,  96.  ],\n",
       "       [  8.34,  96.  ],\n",
       "       [  8.65,  95.  ],\n",
       "       [  8.53,  93.  ],\n",
       "       [  8.29,  95.  ],\n",
       "       [  7.93,  94.  ],\n",
       "       [  8.72,  92.  ],\n",
       "       [  8.14,  91.  ],\n",
       "       [  8.2 ,  92.  ],\n",
       "       [  8.67,  95.  ],\n",
       "       [  8.18,  94.  ],\n",
       "       [  8.61,  95.  ],\n",
       "       [  7.99,  92.  ],\n",
       "       [  8.08,  94.  ],\n",
       "       [  8.26,  91.  ],\n",
       "       [  8.25,  95.  ],\n",
       "       [  8.4 ,  93.  ],\n",
       "       [  7.84,  97.  ],\n",
       "       [  8.08,  98.  ],\n",
       "       [  8.25,  96.  ],\n",
       "       [  8.3 ,  93.  ],\n",
       "       [  7.9 , 100.  ],\n",
       "       [  7.97,  96.  ],\n",
       "       [  8.21,  94.  ],\n",
       "       [  8.23,  95.  ],\n",
       "       [  8.35,  93.  ],\n",
       "       [  8.33,  92.  ],\n",
       "       [  8.46,  98.  ],\n",
       "       [  7.89,  96.  ],\n",
       "       [  7.91,  93.  ],\n",
       "       [  8.23,  91.  ],\n",
       "       [  8.4 ,  93.  ],\n",
       "       [  8.44,  94.  ],\n",
       "       [  8.79,  96.  ]])"
      ]
     },
     "execution_count": 70,
     "metadata": {},
     "output_type": "execute_result"
    }
   ],
   "source": [
    "df_new[y==1]\n",
    "#rows in cluster 1"
   ]
  },
  {
   "cell_type": "code",
   "execution_count": 72,
   "id": "6a1b4e07-dd2f-448d-ab6a-0888f3467831",
   "metadata": {},
   "outputs": [
    {
     "data": {
      "text/plain": [
       "array([[ 5.13, 88.  ],\n",
       "       [ 4.6 , 86.  ],\n",
       "       [ 5.  , 88.  ],\n",
       "       [ 4.86, 86.  ],\n",
       "       [ 4.78, 87.  ],\n",
       "       [ 4.96, 88.  ],\n",
       "       [ 4.86, 87.  ],\n",
       "       [ 5.44, 84.  ],\n",
       "       [ 5.34, 85.  ],\n",
       "       [ 5.31, 86.  ],\n",
       "       [ 5.14, 83.  ],\n",
       "       [ 4.95, 86.  ],\n",
       "       [ 5.21, 87.  ],\n",
       "       [ 4.91, 85.  ],\n",
       "       [ 5.28, 83.  ],\n",
       "       [ 5.15, 88.  ],\n",
       "       [ 4.9 , 85.  ],\n",
       "       [ 4.89, 88.  ],\n",
       "       [ 5.05, 86.  ],\n",
       "       [ 4.98, 91.  ],\n",
       "       [ 5.01, 86.  ],\n",
       "       [ 4.95, 88.  ],\n",
       "       [ 4.96, 89.  ],\n",
       "       [ 4.85, 86.  ],\n",
       "       [ 4.76, 90.  ],\n",
       "       [ 4.98, 87.  ],\n",
       "       [ 4.78, 87.  ],\n",
       "       [ 5.2 , 85.  ],\n",
       "       [ 5.05, 87.  ],\n",
       "       [ 5.01, 83.  ],\n",
       "       [ 4.77, 86.  ],\n",
       "       [ 4.68, 87.  ],\n",
       "       [ 4.81, 85.  ],\n",
       "       [ 5.03, 87.  ],\n",
       "       [ 4.98, 87.  ],\n",
       "       [ 5.32, 88.  ],\n",
       "       [ 4.86, 88.  ],\n",
       "       [ 4.89, 85.  ],\n",
       "       [ 4.88, 86.  ],\n",
       "       [ 5.01, 86.  ],\n",
       "       [ 4.67, 86.  ],\n",
       "       [ 5.15, 85.  ],\n",
       "       [ 4.97, 88.  ],\n",
       "       [ 4.87, 88.  ],\n",
       "       [ 5.2 , 89.  ],\n",
       "       [ 4.99, 88.  ],\n",
       "       [ 4.79, 88.  ],\n",
       "       [ 4.76, 89.  ],\n",
       "       [ 4.78, 85.  ],\n",
       "       [ 4.68, 89.  ]])"
      ]
     },
     "execution_count": 72,
     "metadata": {},
     "output_type": "execute_result"
    }
   ],
   "source": [
    "df_new[y==2]\n",
    "#rows in cluster 2"
   ]
  },
  {
   "cell_type": "code",
   "execution_count": 74,
   "id": "1ebeaa58-6e0d-4af8-8202-40c29bd2421d",
   "metadata": {},
   "outputs": [
    {
     "data": {
      "text/plain": [
       "array([[  8.8 , 115.  ],\n",
       "       [  9.18, 119.  ],\n",
       "       [  8.86, 117.  ],\n",
       "       [  8.83, 118.  ],\n",
       "       [  8.56, 118.  ],\n",
       "       [  8.96, 116.  ],\n",
       "       [  8.78, 116.  ],\n",
       "       [  8.45, 119.  ],\n",
       "       [  8.79, 116.  ],\n",
       "       [  8.81, 115.  ],\n",
       "       [  8.88, 115.  ],\n",
       "       [  9.07, 117.  ],\n",
       "       [  8.92, 118.  ],\n",
       "       [  8.75, 113.  ],\n",
       "       [  8.71, 116.  ],\n",
       "       [  8.86, 118.  ],\n",
       "       [  9.3 , 117.  ],\n",
       "       [  9.01, 121.  ],\n",
       "       [  8.97, 116.  ],\n",
       "       [  9.  , 117.  ],\n",
       "       [  8.76, 117.  ],\n",
       "       [  8.78, 117.  ],\n",
       "       [  9.23, 114.  ],\n",
       "       [  9.03, 118.  ],\n",
       "       [  9.13, 118.  ],\n",
       "       [  8.91, 119.  ],\n",
       "       [  8.98, 118.  ],\n",
       "       [  9.03, 118.  ],\n",
       "       [  8.86, 117.  ],\n",
       "       [  8.89, 118.  ],\n",
       "       [  8.97, 117.  ],\n",
       "       [  8.72, 119.  ],\n",
       "       [  8.93, 118.  ],\n",
       "       [  8.58, 118.  ],\n",
       "       [  8.94, 117.  ],\n",
       "       [  8.6 , 117.  ],\n",
       "       [  8.77, 117.  ],\n",
       "       [  8.81, 116.  ],\n",
       "       [  8.54, 118.  ],\n",
       "       [  8.97, 119.  ],\n",
       "       [  8.91, 117.  ],\n",
       "       [  8.68, 119.  ],\n",
       "       [  9.06, 120.  ],\n",
       "       [  8.9 , 117.  ],\n",
       "       [  8.94, 115.  ],\n",
       "       [  8.91, 115.  ],\n",
       "       [  8.91, 117.  ],\n",
       "       [  8.95, 116.  ],\n",
       "       [  8.57, 118.  ],\n",
       "       [  8.82, 117.  ]])"
      ]
     },
     "execution_count": 74,
     "metadata": {},
     "output_type": "execute_result"
    }
   ],
   "source": [
    "df_new[y==3]\n",
    "#rows in cluster 3"
   ]
  },
  {
   "cell_type": "code",
   "execution_count": 76,
   "id": "f7f16770-613f-4783-8981-6d3d1e0649f1",
   "metadata": {},
   "outputs": [
    {
     "data": {
      "text/plain": [
       "array([], shape=(0, 2), dtype=float64)"
      ]
     },
     "execution_count": 76,
     "metadata": {},
     "output_type": "execute_result"
    }
   ],
   "source": [
    "#if i want to extract 1 st value then"
   ]
  },
  {
   "cell_type": "code",
   "execution_count": 82,
   "id": "70807add-027d-4d42-862c-ad54fbe4ed28",
   "metadata": {},
   "outputs": [
    {
     "data": {
      "text/plain": [
       "array([115., 119., 117., 118., 118., 116., 116., 119., 116., 115., 115.,\n",
       "       117., 118., 113., 116., 118., 117., 121., 116., 117., 117., 117.,\n",
       "       114., 118., 118., 119., 118., 118., 117., 118., 117., 119., 118.,\n",
       "       118., 117., 117., 117., 116., 118., 119., 117., 119., 120., 117.,\n",
       "       115., 115., 117., 116., 118., 117.])"
      ]
     },
     "execution_count": 82,
     "metadata": {},
     "output_type": "execute_result"
    }
   ],
   "source": [
    "df_new[y==3,1]\n"
   ]
  },
  {
   "cell_type": "code",
   "execution_count": 88,
   "id": "a558451b-b43b-4bba-944c-7bcf159ae541",
   "metadata": {},
   "outputs": [
    {
     "data": {
      "text/plain": [
       "<matplotlib.collections.PathCollection at 0x175ea22acf0>"
      ]
     },
     "execution_count": 88,
     "metadata": {},
     "output_type": "execute_result"
    },
    {
     "data": {
      "image/png": "[encoded data removed]",
      "text/plain": [
       "<Figure size 640x480 with 1 Axes>"
      ]
     },
     "metadata": {},
     "output_type": "display_data"
    }
   ],
   "source": [
    "plt.scatter(df_new[y == 0,0],df_new[y == 0,1],color='blue')\n",
    "plt.scatter(df_new[y == 1,0],df_new[y == 1,1],color='red')\n",
    "plt.scatter(df_new[y == 2,0],df_new[y == 2,1],color='green')\n",
    "plt.scatter(df_new[y == 3,0],df_new[y == 3,1],color='yellow')"
   ]
  },
  {
   "cell_type": "code",
   "execution_count": 90,
   "id": "28635027-4217-406a-a9e3-93f241022be6",
   "metadata": {},
   "outputs": [],
   "source": [
    "#K-Means on 3-D Data"
   ]
  },
  {
   "cell_type": "code",
   "execution_count": 119,
   "id": "3b1f97be-eb19-4079-92c4-4f4d08f67ca4",
   "metadata": {},
   "outputs": [],
   "source": []
  },
  {
   "cell_type": "code",
   "execution_count": null,
   "id": "13978c56-4f5a-4937-9ae5-33dfdfbebbbc",
   "metadata": {},
   "outputs": [],
   "source": []
  },
  {
   "cell_type": "code",
   "execution_count": null,
   "id": "cc5f7eed-1482-44a8-871b-d4387fae00cd",
   "metadata": {},
   "outputs": [],
   "source": []
  },
  {
   "cell_type": "code",
   "execution_count": null,
   "id": "054f8e25-69a0-45f4-ad89-dd560d5e8891",
   "metadata": {},
   "outputs": [],
   "source": []
  },
  {
   "cell_type": "code",
   "execution_count": null,
   "id": "000f9d12-8d3a-4b36-a1f0-2174634de803",
   "metadata": {},
   "outputs": [],
   "source": []
  },
  {
   "cell_type": "code",
   "execution_count": null,
   "id": "327aa80b-d8dc-43f2-81f6-0e788257d134",
   "metadata": {},
   "outputs": [],
   "source": []
  },
  {
   "cell_type": "code",
   "execution_count": null,
   "id": "d636bc4a-c675-4c7c-b9cc-03e8156f23cc",
   "metadata": {},
   "outputs": [],
   "source": []
  }
 ],
 "metadata": {
  "kernelspec": {
   "display_name": "Python 3.12",
   "language": "python",
   "name": "python312"
  },
  "language_info": {
   "codemirror_mode": {
    "name": "ipython",
    "version": 3
   },
   "file_extension": ".py",
   "mimetype": "text/x-python",
   "name": "python",
   "nbconvert_exporter": "python",
   "pygments_lexer": "ipython3",
   "version": "3.12.8"
  }
 },
 "nbformat": 4,
 "nbformat_minor": 5
}
